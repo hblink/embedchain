{
  "cells": [
    {
      "cell_type": "markdown",
      "metadata": {
        "id": "b02n_zJ_hl3d"
      },
      "source": [
        "## Cookbook for using ChromaDB with Embedchain"
      ]
    },
    {
      "cell_type": "markdown",
      "metadata": {
        "id": "gyJ6ui2vhtMY"
      },
      "source": [
        "### Step-1: Install embedchain package"
      ]
    },
    {
      "cell_type": "code",
      "execution_count": null,
      "metadata": {
        "id": "-NbXjAdlh0vJ"
      },
      "outputs": [],
      "source": [
        "!pip install embedchain"
      ]
    },
    {
      "cell_type": "code",
      "execution_count": null,
      "metadata": {},
      "outputs": [],
      "source": [
        "!pip install embedchain[dataloaders]"
      ]
    },
    {
      "cell_type": "markdown",
      "metadata": {
        "id": "nGnpSYAAh2bQ"
      },
      "source": [
        "### Step-2: Set OpenAI environment variables\n",
        "\n",
        "You can find this env variable on your [OpenAI dashboard](https://platform.openai.com/account/api-keys)."
      ]
    },
    {
      "cell_type": "code",
      "execution_count": null,
      "metadata": {
        "id": "0fBdQ9GAiRvK"
      },
      "outputs": [],
      "source": [
        "import os\n",
        "from embedchain import Pipeline as App\n",
        "\n",
        "os.environ[\"OPENAI_API_KEY\"] = \"sk-xxx\""
      ]
    },
    {
      "cell_type": "markdown",
      "metadata": {
        "id": "Ns6RhPfbiitr"
      },
      "source": [
        "### Step-3: Define your Vector Database config"
      ]
    },
    {
      "cell_type": "code",
      "execution_count": null,
      "metadata": {
        "id": "S9CkxVjriotB"
      },
      "outputs": [],
      "source": [
        "config = \"\"\"\n",
        "vectordb:\n",
        "  provider: chroma\n",
        "  config:\n",
        "    collection_name: 'my-collection'\n",
        "    # CHANGE THE BELOW TWO LINES!\n",
        "    # pass remote database variables - host and port\n",
        "    host: your-chromadb-url.com\n",
        "    port: 5200\n",
        "    allow_reset: true\n",
        "\"\"\"\n",
        "\n",
        "# Write the multi-line string to a YAML file\n",
        "with open('chromadb.yaml', 'w') as file:\n",
        "    file.write(config)"
      ]
    },
    {
      "cell_type": "markdown",
      "metadata": {
        "id": "PGt6uPLIi1CS"
      },
      "source": [
        "### Step-4 Create embedchain app based on the config"
      ]
    },
    {
      "cell_type": "code",
      "execution_count": null,
      "metadata": {
        "id": "Amzxk3m-i3tD"
      },
      "outputs": [],
      "source": [
        "app = App.from_config(yaml_path=\"chromadb.yaml\")"
      ]
    },
    {
      "cell_type": "markdown",
      "metadata": {
        "id": "XNXv4yZwi7ef"
      },
      "source": [
        "### Step-5: Add data sources to your app"
      ]
    },
    {
      "cell_type": "code",
      "execution_count": null,
      "metadata": {
        "id": "Sn_0rx9QjIY9"
      },
      "outputs": [],
      "source": [
        "app.add(\"https://www.forbes.com/profile/elon-musk\")"
      ]
    },
    {
      "cell_type": "markdown",
      "metadata": {
        "id": "_7W6fDeAjMAP"
      },
      "source": [
        "### Step-6: All set. Now start asking questions related to your data"
      ]
    },
    {
      "cell_type": "code",
      "execution_count": null,
      "metadata": {
        "id": "cvIK7dWRjN_f"
      },
      "outputs": [],
      "source": [
        "while(True):\n",
        "    question = input(\"Enter question: \")\n",
        "    if question in ['q', 'exit', 'quit']:\n",
        "        break\n",
        "    answer = app.query(question)\n",
        "    print(answer)"
      ]
    }
  ],
  "metadata": {
    "colab": {
      "provenance": []
    },
    "kernelspec": {
      "display_name": "Python 3",
      "name": "python3"
    },
    "language_info": {
      "name": "python"
    }
  },
  "nbformat": 4,
  "nbformat_minor": 0
}
